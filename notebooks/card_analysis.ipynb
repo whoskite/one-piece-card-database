{
 "cells": [
  {
   "cell_type": "markdown",
   "metadata": {},
   "source": [
    "# One Piece Card Game Analysis\n",
    "\n",
    "This notebook demonstrates how to analyze the One Piece card data that has been scraped and stored in the database."
   ]
  },
  {
   "cell_type": "code",
   "execution_count": null,
   "metadata": {},
   "source": [
    "import os\n",
    "import sys\n",
    "import sqlite3\n",
    "import pandas as pd\n",
    "import matplotlib.pyplot as plt\n",
    "import seaborn as sns\n",
    "\n",
    "# Add the parent directory to the path so we can import our modules\n",
    "sys.path.append('..')\n",
    "from database.db_manager import DatabaseManager"
   ]
  },
  {
   "cell_type": "markdown",
   "metadata": {},
   "source": [
    "## Load the Card Data\n",
    "\n",
    "First, let's load the card data from the database."
   ]
  },
  {
   "cell_type": "code",
   "execution_count": null,
   "metadata": {},
   "source": [
    "# Initialize the database manager\n",
    "db_path = '../data/one_piece_cards.db'\n",
    "db_manager = DatabaseManager(db_path)\n",
    "\n",
    "# Get all cards\n",
    "cards = db_manager.get_all_cards()\n",
    "\n",
    "# Convert to DataFrame\n",
    "df = pd.DataFrame(cards)\n",
    "\n",
    "# Display basic information\n",
    "print(f\"Total cards: {len(df)}\")\n",
    "df.head()"
   ]
  },
  {
   "cell_type": "markdown",
   "metadata": {},
   "source": [
    "## Basic Statistics\n",
    "\n",
    "Let's look at some basic statistics about the cards."
   ]
  },
  {
   "cell_type": "code",
   "execution_count": null,
   "metadata": {},
   "source": [
    "# Count cards by color\n",
    "color_counts = df['color'].value_counts()\n",
    "print(\"Cards by Color:\")\n",
    "print(color_counts)\n",
    "\n",
    "# Count cards by type\n",
    "type_counts = df['card_type'].value_counts()\n",
    "print(\"\\nCards by Type:\")\n",
    "print(type_counts)\n",
    "\n",
    "# Count cards by set\n",
    "set_counts = df['card_set'].value_counts()\n",
    "print(\"\\nCards by Set (top 10):\")\n",
    "print(set_counts.head(10))"
   ]
  },
  {
   "cell_type": "markdown",
   "metadata": {},
   "source": [
    "## Visualizations\n",
    "\n",
    "Let's create some visualizations to better understand the card distribution."
   ]
  },
  {
   "cell_type": "code",
   "execution_count": null,
   "metadata": {},
   "source": [
    "# Set the style\n",
    "sns.set(style=\"whitegrid\")\n",
    "plt.figure(figsize=(12, 6))\n",
    "\n",
    "# Plot cards by color\n",
    "ax = sns.barplot(x=color_counts.index, y=color_counts.values)\n",
    "plt.title('Number of Cards by Color', fontsize=16)\n",
    "plt.xlabel('Color', fontsize=12)\n",
    "plt.ylabel('Number of Cards', fontsize=12)\n",
    "plt.xticks(rotation=45)\n",
    "\n",
    "# Add count labels on top of bars\n",
    "for i, v in enumerate(color_counts.values):\n",
    "    ax.text(i, v + 5, str(v), ha='center')\n",
    "\n",
    "plt.tight_layout()\n",
    "plt.show()"
   ]
  },
  {
   "cell_type": "code",
   "execution_count": null,
   "metadata": {},
   "source": [
    "# Plot cards by type\n",
    "plt.figure(figsize=(10, 6))\n",
    "ax = sns.barplot(x=type_counts.index, y=type_counts.values)\n",
    "plt.title('Number of Cards by Type', fontsize=16)\n",
    "plt.xlabel('Card Type', fontsize=12)\n",
    "plt.ylabel('Number of Cards', fontsize=12)\n",
    "\n",
    "# Add count labels on top of bars\n",
    "for i, v in enumerate(type_counts.values):\n",
    "    ax.text(i, v + 5, str(v), ha='center')\n",
    "\n",
    "plt.tight_layout()\n",
    "plt.show()"
   ]
  },
  {
   "cell_type": "markdown",
   "metadata": {},
   "source": [
    "## Cost Distribution\n",
    "\n",
    "Let's analyze the cost distribution of cards."
   ]
  },
  {
   "cell_type": "code",
   "execution_count": null,
   "metadata": {},
   "source": [
    "# Filter out cards with no cost (e.g., some Event cards)\n",
    "df_with_cost = df[df['cost'].notna()]\n",
    "\n",
    "# Convert cost to numeric\n",
    "df_with_cost['cost'] = pd.to_numeric(df_with_cost['cost'])\n",
    "\n",
    "# Plot cost distribution\n",
    "plt.figure(figsize=(12, 6))\n",
    "sns.histplot(data=df_with_cost, x='cost', hue='color', multiple='stack', discrete=True)\n",
    "plt.title('Card Cost Distribution by Color', fontsize=16)\n",
    "plt.xlabel('Cost', fontsize=12)\n",
    "plt.ylabel('Number of Cards', fontsize=12)\n",
    "plt.tight_layout()\n",
    "plt.show()"
   ]
  },
  {
   "cell_type": "markdown",
   "metadata": {},
   "source": [
    "## Power Analysis\n",
    "\n",
    "Let's analyze the power distribution of Character cards."
   ]
  },
  {
   "cell_type": "code",
   "execution_count": null,
   "metadata": {},
   "source": [
    "# Filter Character cards with power\n",
    "df_characters = df[(df['card_type'] == 'Character') | (df['card_type'] == 'Leader')]\n",
    "df_characters = df_characters[df_characters['power'].notna() & (df_characters['power'] != '-')]\n",
    "\n",
    "# Convert power to numeric (remove any non-numeric characters)\n",
    "df_characters['power_numeric'] = df_characters['power'].str.replace(r'\\D', '', regex=True).astype(int)\n",
    "\n",
    "# Plot power vs cost\n",
    "plt.figure(figsize=(12, 8))\n",
    "sns.scatterplot(data=df_characters, x='cost', y='power_numeric', hue='color', size='power_numeric', sizes=(20, 200), alpha=0.7)\n",
    "plt.title('Character Power vs Cost by Color', fontsize=16)\n",
    "plt.xlabel('Cost', fontsize=12)\n",
    "plt.ylabel('Power', fontsize=12)\n",
    "plt.grid(True, linestyle='--', alpha=0.7)\n",
    "plt.tight_layout()\n",
    "plt.show()"
   ]
  },
  {
   "cell_type": "markdown",
   "metadata": {},
   "source": [
    "## Character Type Analysis\n",
    "\n",
    "Let's analyze the distribution of character types."
   ]
  },
  {
   "cell_type": "code",
   "execution_count": null,
   "metadata": {},
   "source": [
    "# Extract character types (some cards have multiple types separated by '/')\n",
    "all_types = []\n",
    "for types in df['character_type'].dropna():\n",
    "    if isinstance(types, str):\n",
    "        all_types.extend([t.strip() for t in types.split('/')])\n",
    "\n",
    "# Count occurrences of each type\n",
    "type_counts = pd.Series(all_types).value_counts()\n",
    "\n",
    "# Plot top 15 character types\n",
    "plt.figure(figsize=(14, 8))\n",
    "sns.barplot(x=type_counts.head(15).index, y=type_counts.head(15).values)\n",
    "plt.title('Top 15 Character Types', fontsize=16)\n",
    "plt.xlabel('Character Type', fontsize=12)\n",
    "plt.ylabel('Number of Cards', fontsize=12)\n",
    "plt.xticks(rotation=45, ha='right')\n",
    "plt.tight_layout()\n",
    "plt.show()"
   ]
  },
  {
   "cell_type": "markdown",
   "metadata": {},
   "source": [
    "## Card Effect Analysis\n",
    "\n",
    "Let's analyze the card effects to find common keywords."
   ]
  },
  {
   "cell_type": "code",
   "execution_count": null,
   "metadata": {},
   "source": [
    "# Extract effects\n",
    "effects = df['effect'].dropna().tolist()\n",
    "\n",
    "# Common keywords to look for\n",
    "keywords = [\n",
    "    'Blocker', 'Rush', 'Double Attack', 'Banish', 'Counter', 'Draw', \n",
    "    'DON!!', 'Trigger', 'On Play', 'When Attacking', 'K.O.'\n",
    "]\n",
    "\n",
    "# Count occurrences of each keyword\n",
    "keyword_counts = {}\n",
    "for keyword in keywords:\n",
    "    count = sum(1 for effect in effects if keyword in effect)\n",
    "    keyword_counts[keyword] = count\n",
    "\n",
    "# Convert to Series and sort\n",
    "keyword_series = pd.Series(keyword_counts).sort_values(ascending=False)\n",
    "\n",
    "# Plot keyword occurrences\n",
    "plt.figure(figsize=(12, 6))\n",
    "sns.barplot(x=keyword_series.index, y=keyword_series.values)\n",
    "plt.title('Common Keywords in Card Effects', fontsize=16)\n",
    "plt.xlabel('Keyword', fontsize=12)\n",
    "plt.ylabel('Number of Occurrences', fontsize=12)\n",
    "plt.xticks(rotation=45, ha='right')\n",
    "plt.tight_layout()\n",
    "plt.show()"
   ]
  },
  {
   "cell_type": "markdown",
   "metadata": {},
   "source": [
    "## Conclusion\n",
    "\n",
    "This notebook has demonstrated some basic analysis of the One Piece card data. There are many more analyses that could be performed, such as:\n",
    "\n",
    "- Analyzing the relationship between card attributes and effects\n",
    "- Identifying powerful card combinations\n",
    "- Tracking card trends across different sets\n",
    "- Building deck recommendations based on card synergies\n",
    "\n",
    "Feel free to extend this analysis with your own ideas!"
   ]
  }
 ],
 "metadata": {
  "kernelspec": {
   "display_name": "Python 3",
   "language": "python",
   "name": "python3"
  },
  "language_info": {
   "codemirror_mode": {
    "name": "ipython",
    "version": 3
   },
   "file_extension": ".py",
   "mimetype": "text/x-python",
   "name": "python",
   "nbconvert_exporter": "python",
   "pygments_lexer": "ipython3",
   "version": "3.8.10"
  }
 },
 "nbformat": 4,
 "nbformat_minor": 4
}